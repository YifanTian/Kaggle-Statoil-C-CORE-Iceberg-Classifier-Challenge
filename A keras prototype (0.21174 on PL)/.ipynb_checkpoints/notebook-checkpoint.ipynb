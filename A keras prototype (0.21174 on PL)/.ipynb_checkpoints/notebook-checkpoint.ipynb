{
 "cells": [
  {
   "cell_type": "code",
   "execution_count": 3,
   "metadata": {
    "_cell_guid": "003a34b4-ea58-413c-8ee5-dda6c041ded7",
    "_uuid": "14112d83eff81bcfed3d8b0fdf8b4fc37af7d92b"
   },
   "outputs": [],
   "source": [
    "import numpy as np # linear algebra\n",
    "np.random.seed(666)\n",
    "import pandas as pd # data processing, CSV file I/O (e.g. pd.read_csv)\n",
    "from sklearn.model_selection import train_test_split\n",
    "from subprocess import check_output\n",
    "# print(check_output([\"ls\", \"../input\"]).decode(\"utf8\"))"
   ]
  },
  {
   "cell_type": "code",
   "execution_count": 4,
   "metadata": {
    "_cell_guid": "29a5f133-81c7-486a-82c7-5e643b648e22",
    "_uuid": "4b01d4e424cec7956507f5ac8179049bcd2f0235"
   },
   "outputs": [
    {
     "name": "stdout",
     "output_type": "stream",
     "text": [
      "done!\n"
     ]
    }
   ],
   "source": [
    "#Load data\n",
    "train = pd.read_json(\"../train.json\")\n",
    "test = pd.read_json(\"../test.json\")\n",
    "train.inc_angle = train.inc_angle.replace('na', 0)\n",
    "train.inc_angle = train.inc_angle.astype(float).fillna(0.0)\n",
    "print(\"done!\")"
   ]
  },
  {
   "cell_type": "code",
   "execution_count": 5,
   "metadata": {
    "_cell_guid": "2a419a87-0630-4794-8e5b-dff560d2d116",
    "_uuid": "b2eb784dbc8a40a145c5cdad2f6ca929e165ce95",
    "collapsed": true
   },
   "outputs": [],
   "source": [
    "# Train data\n",
    "x_band1 = np.array([np.array(band).astype(np.float32).reshape(75, 75) for band in train[\"band_1\"]])\n",
    "x_band2 = np.array([np.array(band).astype(np.float32).reshape(75, 75) for band in train[\"band_2\"]])\n",
    "X_train = np.concatenate([x_band1[:, :, :, np.newaxis]\n",
    "                          , x_band2[:, :, :, np.newaxis]\n",
    "                         , ((x_band1+x_band1)/2)[:, :, :, np.newaxis]], axis=-1)\n",
    "X_angle_train = np.array(train.inc_angle)\n",
    "y_train = np.array(train[\"is_iceberg\"])\n",
    "\n",
    "# Test data\n",
    "x_band1 = np.array([np.array(band).astype(np.float32).reshape(75, 75) for band in test[\"band_1\"]])\n",
    "x_band2 = np.array([np.array(band).astype(np.float32).reshape(75, 75) for band in test[\"band_2\"]])\n",
    "X_test = np.concatenate([x_band1[:, :, :, np.newaxis]\n",
    "                          , x_band2[:, :, :, np.newaxis]\n",
    "                         , ((x_band1+x_band1)/2)[:, :, :, np.newaxis]], axis=-1)\n",
    "X_angle_test = np.array(test.inc_angle)\n",
    "\n",
    "\n",
    "X_train, X_valid, X_angle_train, X_angle_valid, y_train, y_valid = train_test_split(X_train\n",
    "                    , X_angle_train, y_train, random_state=123, train_size=0.75)"
   ]
  },
  {
   "cell_type": "code",
   "execution_count": 6,
   "metadata": {
    "_cell_guid": "48694991-a0af-4e4a-86c9-9e6a106ac21d",
    "_uuid": "d5787df36f2640ba2ae57dad49dc78b7c2a8f8b3"
   },
   "outputs": [
    {
     "name": "stderr",
     "output_type": "stream",
     "text": [
      "Using TensorFlow backend.\n"
     ]
    },
    {
     "name": "stdout",
     "output_type": "stream",
     "text": [
      "____________________________________________________________________________________________________\n",
      "Layer (type)                     Output Shape          Param #     Connected to                     \n",
      "====================================================================================================\n",
      "X_1 (InputLayer)                 (None, 75, 75, 3)     0                                            \n",
      "____________________________________________________________________________________________________\n",
      "batch_normalization_1 (BatchNorm (None, 75, 75, 3)     12          X_1[0][0]                        \n",
      "____________________________________________________________________________________________________\n",
      "conv2d_1 (Conv2D)                (None, 73, 73, 16)    448         batch_normalization_1[0][0]      \n",
      "____________________________________________________________________________________________________\n",
      "conv2d_2 (Conv2D)                (None, 71, 71, 16)    2320        conv2d_1[0][0]                   \n",
      "____________________________________________________________________________________________________\n",
      "max_pooling2d_1 (MaxPooling2D)   (None, 35, 35, 16)    0           conv2d_2[0][0]                   \n",
      "____________________________________________________________________________________________________\n",
      "dropout_1 (Dropout)              (None, 35, 35, 16)    0           max_pooling2d_1[0][0]            \n",
      "____________________________________________________________________________________________________\n",
      "conv2d_3 (Conv2D)                (None, 33, 33, 32)    4640        dropout_1[0][0]                  \n",
      "____________________________________________________________________________________________________\n",
      "conv2d_4 (Conv2D)                (None, 31, 31, 32)    9248        conv2d_3[0][0]                   \n",
      "____________________________________________________________________________________________________\n",
      "max_pooling2d_2 (MaxPooling2D)   (None, 15, 15, 32)    0           conv2d_4[0][0]                   \n",
      "____________________________________________________________________________________________________\n",
      "dropout_2 (Dropout)              (None, 15, 15, 32)    0           max_pooling2d_2[0][0]            \n",
      "____________________________________________________________________________________________________\n",
      "conv2d_5 (Conv2D)                (None, 13, 13, 64)    18496       dropout_2[0][0]                  \n",
      "____________________________________________________________________________________________________\n",
      "conv2d_6 (Conv2D)                (None, 11, 11, 64)    36928       conv2d_5[0][0]                   \n",
      "____________________________________________________________________________________________________\n",
      "max_pooling2d_3 (MaxPooling2D)   (None, 5, 5, 64)      0           conv2d_6[0][0]                   \n",
      "____________________________________________________________________________________________________\n",
      "dropout_3 (Dropout)              (None, 5, 5, 64)      0           max_pooling2d_3[0][0]            \n",
      "____________________________________________________________________________________________________\n",
      "batch_normalization_2 (BatchNorm (None, 75, 75, 3)     12          X_1[0][0]                        \n",
      "____________________________________________________________________________________________________\n",
      "conv2d_7 (Conv2D)                (None, 3, 3, 128)     73856       dropout_3[0][0]                  \n",
      "____________________________________________________________________________________________________\n",
      "conv2d_8 (Conv2D)                (None, 73, 73, 128)   3584        batch_normalization_2[0][0]      \n",
      "____________________________________________________________________________________________________\n",
      "max_pooling2d_4 (MaxPooling2D)   (None, 1, 1, 128)     0           conv2d_7[0][0]                   \n",
      "____________________________________________________________________________________________________\n",
      "max_pooling2d_5 (MaxPooling2D)   (None, 36, 36, 128)   0           conv2d_8[0][0]                   \n",
      "____________________________________________________________________________________________________\n",
      "dropout_4 (Dropout)              (None, 1, 1, 128)     0           max_pooling2d_4[0][0]            \n",
      "____________________________________________________________________________________________________\n",
      "dropout_5 (Dropout)              (None, 36, 36, 128)   0           max_pooling2d_5[0][0]            \n",
      "____________________________________________________________________________________________________\n",
      "angle (InputLayer)               (None, 1)             0                                            \n",
      "____________________________________________________________________________________________________\n",
      "global_max_pooling2d_1 (GlobalMa (None, 128)           0           dropout_4[0][0]                  \n",
      "____________________________________________________________________________________________________\n",
      "global_max_pooling2d_2 (GlobalMa (None, 128)           0           dropout_5[0][0]                  \n",
      "____________________________________________________________________________________________________\n",
      "batch_normalization_3 (BatchNorm (None, 1)             4           angle[0][0]                      \n",
      "____________________________________________________________________________________________________\n",
      "concatenate_1 (Concatenate)      (None, 257)           0           global_max_pooling2d_1[0][0]     \n",
      "                                                                   global_max_pooling2d_2[0][0]     \n",
      "                                                                   batch_normalization_3[0][0]      \n",
      "____________________________________________________________________________________________________\n",
      "dense_1 (Dense)                  (None, 256)           66048       concatenate_1[0][0]              \n",
      "____________________________________________________________________________________________________\n",
      "batch_normalization_4 (BatchNorm (None, 256)           1024        dense_1[0][0]                    \n",
      "____________________________________________________________________________________________________\n",
      "dropout_6 (Dropout)              (None, 256)           0           batch_normalization_4[0][0]      \n",
      "____________________________________________________________________________________________________\n",
      "dense_2 (Dense)                  (None, 64)            16448       dropout_6[0][0]                  \n",
      "____________________________________________________________________________________________________\n",
      "batch_normalization_5 (BatchNorm (None, 64)            256         dense_2[0][0]                    \n",
      "____________________________________________________________________________________________________\n",
      "dropout_7 (Dropout)              (None, 64)            0           batch_normalization_5[0][0]      \n",
      "____________________________________________________________________________________________________\n",
      "dense_3 (Dense)                  (None, 1)             65          dropout_7[0][0]                  \n",
      "====================================================================================================\n",
      "Total params: 233,389\n",
      "Trainable params: 232,735\n",
      "Non-trainable params: 654\n",
      "____________________________________________________________________________________________________\n"
     ]
    }
   ],
   "source": [
    "from matplotlib import pyplot\n",
    "from keras.preprocessing.image import ImageDataGenerator\n",
    "from keras.models import Sequential\n",
    "from keras.layers import Conv2D, MaxPooling2D, Dense, Dropout, Input, Flatten\n",
    "from keras.layers import GlobalMaxPooling2D\n",
    "from keras.layers.normalization import BatchNormalization\n",
    "from keras.layers.merge import Concatenate\n",
    "from keras.models import Model\n",
    "from keras.optimizers import Adam\n",
    "from keras.callbacks import ModelCheckpoint, Callback, EarlyStopping\n",
    "\n",
    "def get_callbacks(filepath, patience=2):\n",
    "    es = EarlyStopping('val_loss', patience=patience, mode=\"min\")\n",
    "    msave = ModelCheckpoint(filepath, save_best_only=True)\n",
    "    return [es, msave]\n",
    "    \n",
    "def get_model():\n",
    "    bn_model = 0\n",
    "    p_activation = \"elu\"\n",
    "    input_1 = Input(shape=(75, 75, 3), name=\"X_1\")\n",
    "    input_2 = Input(shape=[1], name=\"angle\")\n",
    "    \n",
    "    img_1 = Conv2D(16, kernel_size = (3,3), activation=p_activation) ((BatchNormalization(momentum=bn_model))(input_1))\n",
    "    img_1 = Conv2D(16, kernel_size = (3,3), activation=p_activation) (img_1)\n",
    "    img_1 = MaxPooling2D((2,2)) (img_1)\n",
    "    img_1 = Dropout(0.2)(img_1)\n",
    "    img_1 = Conv2D(32, kernel_size = (3,3), activation=p_activation) (img_1)\n",
    "    img_1 = Conv2D(32, kernel_size = (3,3), activation=p_activation) (img_1)\n",
    "    img_1 = MaxPooling2D((2,2)) (img_1)\n",
    "    img_1 = Dropout(0.2)(img_1)\n",
    "    img_1 = Conv2D(64, kernel_size = (3,3), activation=p_activation) (img_1)\n",
    "    img_1 = Conv2D(64, kernel_size = (3,3), activation=p_activation) (img_1)\n",
    "    img_1 = MaxPooling2D((2,2)) (img_1)\n",
    "    img_1 = Dropout(0.2)(img_1)\n",
    "    img_1 = Conv2D(128, kernel_size = (3,3), activation=p_activation) (img_1)\n",
    "    img_1 = MaxPooling2D((2,2)) (img_1)\n",
    "    img_1 = Dropout(0.2)(img_1)\n",
    "    img_1 = GlobalMaxPooling2D() (img_1)\n",
    "    \n",
    "    \n",
    "    img_2 = Conv2D(128, kernel_size = (3,3), activation=p_activation) ((BatchNormalization(momentum=bn_model))(input_1))\n",
    "    img_2 = MaxPooling2D((2,2)) (img_2)\n",
    "    img_2 = Dropout(0.2)(img_2)\n",
    "    img_2 = GlobalMaxPooling2D() (img_2)\n",
    "    \n",
    "    img_concat =  (Concatenate()([img_1, img_2, BatchNormalization(momentum=bn_model)(input_2)]))\n",
    "    \n",
    "    dense_ayer = Dropout(0.5) (BatchNormalization(momentum=bn_model) ( Dense(256, activation=p_activation)(img_concat) ))\n",
    "    dense_ayer = Dropout(0.5) (BatchNormalization(momentum=bn_model) ( Dense(64, activation=p_activation)(dense_ayer) ))\n",
    "    output = Dense(1, activation=\"sigmoid\")(dense_ayer)\n",
    "    \n",
    "    model = Model([input_1,input_2],  output)\n",
    "    optimizer = Adam(lr=0.001, beta_1=0.9, beta_2=0.999, epsilon=1e-08, decay=0.0)\n",
    "    model.compile(loss=\"binary_crossentropy\", optimizer=optimizer, metrics=[\"accuracy\"])\n",
    "    return model\n",
    "model = get_model()\n",
    "model.summary()"
   ]
  },
  {
   "cell_type": "code",
   "execution_count": null,
   "metadata": {
    "_cell_guid": "ed3d20e2-9cd3-4aad-9664-c7f3c485cc1e",
    "_uuid": "7397f8e25535660a8149786218f0cc54070ddb7b",
    "collapsed": true
   },
   "outputs": [],
   "source": [
    "file_path = \".model_weights.hdf5\"\n",
    "callbacks = get_callbacks(filepath=file_path, patience=5)\n",
    "\n",
    "model = get_model()\n",
    "model.fit([X_train, X_angle_train], y_train, epochs=25\n",
    "          , validation_data=([X_valid, X_angle_valid], y_valid)\n",
    "         , batch_size=32\n",
    "         , callbacks=callbacks)"
   ]
  },
  {
   "cell_type": "code",
   "execution_count": null,
   "metadata": {
    "_cell_guid": "aacdccc7-760d-4433-8a6f-554d357722fd",
    "_uuid": "f16cda9020fb9e07cb3325ba05061b786e603626",
    "collapsed": true
   },
   "outputs": [],
   "source": [
    "model.load_weights(filepath=file_path)\n",
    "\n",
    "print(\"Train evaluate:\")\n",
    "print(model.evaluate([X_train, X_angle_train], y_train, verbose=1, batch_size=200))\n",
    "print(\"####################\")\n",
    "print(\"watch list evaluate:\")\n",
    "print(model.evaluate([X_valid, X_angle_valid], y_valid, verbose=1, batch_size=200))"
   ]
  },
  {
   "cell_type": "code",
   "execution_count": null,
   "metadata": {
    "_cell_guid": "78dbcf6c-a7ba-49c7-a459-20bed13a2219",
    "_uuid": "df1410c2fb4d4f124ba89602b3f669de7018728a",
    "collapsed": true
   },
   "outputs": [],
   "source": [
    "prediction = model.predict([X_test, X_angle_test], verbose=1, batch_size=200)"
   ]
  },
  {
   "cell_type": "code",
   "execution_count": null,
   "metadata": {
    "_cell_guid": "52766228-cf82-4cc8-9671-d8391d294bbb",
    "_uuid": "a656b27ff563fd4e69c43393280b9227e44aac74",
    "collapsed": true
   },
   "outputs": [],
   "source": [
    "submission = pd.DataFrame({'id': test[\"id\"], 'is_iceberg': prediction.reshape((prediction.shape[0]))})\n",
    "submission.head(10)"
   ]
  },
  {
   "cell_type": "code",
   "execution_count": null,
   "metadata": {
    "_cell_guid": "da4a9987-2589-48b3-bfd1-5e2076f74f0c",
    "_uuid": "53646935d88ffa854e33aeb583c6d5c475e9380b",
    "collapsed": true
   },
   "outputs": [],
   "source": [
    "submission.to_csv(\"./submission.csv\", index=False)"
   ]
  },
  {
   "cell_type": "markdown",
   "metadata": {
    "_cell_guid": "2732f6a8-745c-49df-898b-8a55d22b0227",
    "_uuid": "321d861514ebae2d61817486dc3508dd350a047b",
    "collapsed": true
   },
   "source": [
    "Any comment will be welcome! ;)"
   ]
  }
 ],
 "metadata": {
  "kernelspec": {
   "display_name": "Python 3",
   "language": "python",
   "name": "python3"
  },
  "language_info": {
   "codemirror_mode": {
    "name": "ipython",
    "version": 3
   },
   "file_extension": ".py",
   "mimetype": "text/x-python",
   "name": "python",
   "nbconvert_exporter": "python",
   "pygments_lexer": "ipython3",
   "version": "3.5.3"
  }
 },
 "nbformat": 4,
 "nbformat_minor": 1
}
